{
  "nbformat": 4,
  "nbformat_minor": 0,
  "metadata": {
    "colab": {
      "provenance": [],
      "authorship_tag": "ABX9TyMMFOsvs7HNYBZt2bRJ9vYL",
      "include_colab_link": true
    },
    "kernelspec": {
      "name": "python3",
      "display_name": "Python 3"
    },
    "language_info": {
      "name": "python"
    }
  },
  "cells": [
    {
      "cell_type": "markdown",
      "metadata": {
        "id": "view-in-github",
        "colab_type": "text"
      },
      "source": [
        "<a href=\"https://colab.research.google.com/github/Yuvarajureddy123/CS5720-NNDL-ICP1/blob/main/CS5720_NNDL_ICP1.ipynb\" target=\"_parent\"><img src=\"https://colab.research.google.com/assets/colab-badge.svg\" alt=\"Open In Colab\"/></a>"
      ]
    },
    {
      "cell_type": "code",
      "execution_count": null,
      "metadata": {
        "id": "tthUcom942Cq"
      },
      "outputs": [],
      "source": []
    },
    {
      "cell_type": "markdown",
      "source": [
        "Spring 2025 : CS5720\n",
        "Neural Networks & Deep Learning - ICP-1\n",
        "1. Write a program that takes two strings from the user: first_name, last_name. Pass these variables to fullname function that should return the (full name).\n",
        "For example:\n",
        "\n",
        "▪ First_name = “your first name”, last_name = “your last name”\n",
        "\n",
        "▪ Full_name = “your full name”\n",
        "\n",
        "Write function named “string_alternative” that returns every other char in the full_name string. Str = “Good evening” Output: Go vnn\n",
        "\n",
        "Note: You need to create a function named “string_alternative” for this program and call it from main function."
      ],
      "metadata": {
        "id": "aEyKL60S47ev"
      }
    },
    {
      "cell_type": "code",
      "source": [
        "def fullname(first_name, last_name):\n",
        "    return f\"{first_name} {last_name}\"\n",
        "\n",
        "def main():\n",
        "    # Taking first name and last name input from the user\n",
        "    first_name = input(\"Enter your first name: \")\n",
        "    last_name = input(\"Enter your last name: \")\n",
        "\n",
        "    # Getting the full name by calling the fullname function\n",
        "    full_name = fullname(first_name, last_name)\n",
        "    print(\"Full Name:\", full_name)\n",
        "\n",
        "if __name__ == \"__main__\":\n",
        "    main()"
      ],
      "metadata": {
        "colab": {
          "base_uri": "https://localhost:8080/"
        },
        "id": "zHrjceVV5B2T",
        "outputId": "41f03efd-6380-4cf6-a258-9e49582a1060"
      },
      "execution_count": 3,
      "outputs": [
        {
          "output_type": "stream",
          "name": "stdout",
          "text": [
            "Enter your first name: YUVARAJUREDDY\n",
            "Enter your last name: SIRIPIREDDY\n",
            "Full Name: YUVARAJUREDDY SIRIPIREDDY\n"
          ]
        }
      ]
    },
    {
      "cell_type": "code",
      "source": [
        "def string_alternative(input_string):\n",
        "    #Taking every other character from the string by using slicing\n",
        "    return input_string[::2]\n",
        "\n",
        "def main():\n",
        "    full_name = \"Good evening\"\n",
        "    # Getting every other character from the full name by calling the string_alternative function\n",
        "    alternative_string = string_alternative(full_name)\n",
        "    print(\"String Alternative:\", alternative_string)\n",
        "\n",
        "if __name__ == \"__main__\":\n",
        "    main()"
      ],
      "metadata": {
        "colab": {
          "base_uri": "https://localhost:8080/"
        },
        "id": "gnQ0B5Us5J_Q",
        "outputId": "601985cf-d1b7-461b-c32e-63df3e82518a"
      },
      "execution_count": 4,
      "outputs": [
        {
          "output_type": "stream",
          "name": "stdout",
          "text": [
            "String Alternative: Go vnn\n"
          ]
        }
      ]
    },
    {
      "cell_type": "markdown",
      "source": [],
      "metadata": {
        "id": "yjiVmC2Z5O0w"
      }
    },
    {
      "cell_type": "markdown",
      "source": [
        "2. Write a python program to find the wordcount in a file (input.txt) for each line and then print the output.\n",
        "* Finally store the output in output.txt file.\n",
        "*  Example:\n",
        "Input: a file includes two lines: Python Course Deep Learning Course\n",
        "* Output: -- Python Course -- Deep Learning Course\n",
        "* Word_Count: -- Python: 1 -- Course: 2 -- Deep: 1 -- Learning: 1 Learning: 1"
      ],
      "metadata": {
        "id": "EWx9i3Tt5Td8"
      }
    },
    {
      "cell_type": "code",
      "source": [
        "def word_count(input_file, output_file):\n",
        "    word_dict = {}\n",
        "\n",
        "    # Opening the output file for writing\n",
        "    with open(output_file, 'w') as output:\n",
        "\n",
        "        # Reading the input file line by line\n",
        "        with open(input_file, 'r') as file:\n",
        "            lines = file.readlines()\n",
        "\n",
        "            # Writing each line to the output file and printing it\n",
        "            for line in lines:\n",
        "                output.write(line)\n",
        "                print(line.strip())  # Printing each line to the console\n",
        "\n",
        "                # Counting words in each line\n",
        "                words = line.strip().split()\n",
        "                for word in words:\n",
        "                    word_dict[word] = word_dict.get(word, 0) + 1\n",
        "\n",
        "        # Writing the word counts to the output file\n",
        "        output.write(\"\\nWord_Count:\\n\")\n",
        "        print(\"\\nWord_Count:\")\n",
        "        for word, count in word_dict.items():\n",
        "            output.write(f\"{word}: {count}\\n\")\n",
        "            print(f\"{word}: {count}\")  # Printing each word count to the console\n",
        "\n",
        "def main():\n",
        "    # Define the input and output file names\n",
        "    input_file = 'input.txt'\n",
        "    output_file = 'output.txt'\n",
        "\n",
        "    # Call the word_count function to process the file\n",
        "    word_count(input_file, output_file)\n",
        "\n",
        "if __name__ == \"__main__\":\n",
        "    main()"
      ],
      "metadata": {
        "colab": {
          "base_uri": "https://localhost:8080/"
        },
        "id": "uJzk0R9g5ZGB",
        "outputId": "4f47ae30-824f-45ea-bd53-7d3b67f6ce2a"
      },
      "execution_count": 6,
      "outputs": [
        {
          "output_type": "stream",
          "name": "stdout",
          "text": [
            "Python Course\n",
            "Deep Learning Course\n",
            "\n",
            "Word_Count:\n",
            "Python: 1\n",
            "Course: 2\n",
            "Deep: 1\n",
            "Learning: 1\n"
          ]
        }
      ]
    },
    {
      "cell_type": "markdown",
      "source": [
        "3. Write a program, which reads heights (inches.) of customers into a list and convert these heights to centimeters in a separate list using:\n",
        "* 1.Nested Interactive loop.\n",
        "* 2.List comprehensions Example:\n",
        "\n",
        "L1: [150,155, 145, 148]\n",
        "\n",
        "Output: [68.03, 70.3, 65.77, 67.13]"
      ],
      "metadata": {
        "id": "vx3BiHx66P4P"
      }
    },
    {
      "cell_type": "code",
      "source": [
        "# Converting from Inches to Centimeters\n",
        "# method 1\n",
        "# using nested interactive loop\n",
        "def convert_heights_1(heights_inch:list):\n",
        "    height_cm = []\n",
        "    for entry in heights_inch:\n",
        "        height_cm.append(round(entry * 2.54, 2))\n",
        "    return height_cm\n",
        "\n",
        "# method 2\n",
        "# using list comprehensions\n",
        "def convert_heights_2(heights_inch:list):\n",
        "    height_cm = [round(entry * 2.54, 2) for entry in heights_inch]\n",
        "    return height_cm\n",
        "\n",
        "L1 = [150,155, 145, 148]\n",
        "print(\"Converted using interactive loop: \",convert_heights_1(L1))\n",
        "print(\"Converted using list comprehensions: \",convert_heights_2(L1))"
      ],
      "metadata": {
        "colab": {
          "base_uri": "https://localhost:8080/"
        },
        "id": "BdmbjAis64Fn",
        "outputId": "31f50e43-8fad-4081-a175-70f955d8d880"
      },
      "execution_count": 7,
      "outputs": [
        {
          "output_type": "stream",
          "name": "stdout",
          "text": [
            "Converted using interactive loop:  [381.0, 393.7, 368.3, 375.92]\n",
            "Converted using list comprehensions:  [381.0, 393.7, 368.3, 375.92]\n"
          ]
        }
      ]
    },
    {
      "cell_type": "code",
      "source": [
        "# Converting from Centimeters to Inches\n",
        "# Method 1 - Using Nested Interactive Loop (cm to inches)\n",
        "def convert_heights_1(heights_cm: list):\n",
        "    height_inch = []\n",
        "    for entry in heights_cm:\n",
        "        height_inch.append(round(entry * 0.3937, 2))\n",
        "    return height_inch\n",
        "\n",
        "# Method 2 - Using List Comprehensions (cm to inches)\n",
        "def convert_heights_2(heights_cm: list):\n",
        "    height_inch = [round(entry * 0.3937, 2) for entry in heights_cm]\n",
        "    return height_inch\n",
        "\n",
        "L1 = [150, 155, 145, 148]\n",
        "print(\"Converted using interactive loop: \", convert_heights_1(L1))\n",
        "print(\"Converted using list comprehensions: \", convert_heights_2(L1))"
      ],
      "metadata": {
        "colab": {
          "base_uri": "https://localhost:8080/"
        },
        "id": "WMZP6k-M6-Lf",
        "outputId": "0223cb4a-a180-45fd-cbe3-68d68895ceca"
      },
      "execution_count": 8,
      "outputs": [
        {
          "output_type": "stream",
          "name": "stdout",
          "text": [
            "Converted using interactive loop:  [59.05, 61.02, 57.09, 58.27]\n",
            "Converted using list comprehensions:  [59.05, 61.02, 57.09, 58.27]\n"
          ]
        }
      ]
    }
  ]
}